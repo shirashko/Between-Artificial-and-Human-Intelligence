{
  "nbformat": 4,
  "nbformat_minor": 0,
  "metadata": {
    "colab": {
      "provenance": [],
      "machine_shape": "hm",
      "gpuType": "T4"
    },
    "kernelspec": {
      "name": "python3",
      "display_name": "Python 3"
    },
    "language_info": {
      "name": "python"
    },
    "accelerator": "GPU"
  },
  "cells": [
    {
      "cell_type": "markdown",
      "source": [
        "# Word Embeddings and Language Acquisition\n",
        "\n",
        "In this workshop you will get a chance to experiment with both static  (word2vec/GloVe) and contextual (self-attention) word embeddings.\n",
        "To do so, you will train your own GPT2 from scratch on \"Alice's Adventures in Wonderland\".\n",
        "\n",
        "Along the way you will (hopefully) learn to:\n",
        "1. Run code in colab\n",
        "2. Work with python libraries useful for NLP and ML in general (gensim, pytorch, numpy, etc.)\n",
        "2. Use code from outside [git repo](https://github.com/karpathy/minGPT.git)\n",
        "3. Build a training dataset from [raw text](https://archive.org/stream/alicesadventures19033gut/19033.txt)\n",
        "4. Train a Transformer based Language Model from scratch!\n",
        "5. Generate text using your LM 😀\n",
        "6. Extract and plot self-attention scores from your model.\n"
      ],
      "metadata": {
        "id": "ottBPk8x1BGE"
      }
    },
    {
      "cell_type": "markdown",
      "source": [
        "To get a feeling for static embedding arithmetic you can play around with the following demo:\n",
        "\n",
        "https://dash.gallery/dash-word-arithmetic/\n",
        "\n",
        "(These are word2vec embedding trained on the Google News Dataset.)\n",
        "\n"
      ],
      "metadata": {
        "id": "J-IAqkQtABb8"
      }
    },
    {
      "cell_type": "markdown",
      "source": [
        "To see how easy it is to implement in code you can try out the [gensim](https://radimrehurek.com/gensim/models/keyedvectors.html) library, and check if the same effets reproduce with GloVe embeddings.\n",
        "\n",
        "The follwoing functions may be helfpul: most_similar and doesnt_match."
      ],
      "metadata": {
        "id": "S_w_WTTzAg42"
      }
    },
    {
      "cell_type": "code",
      "source": [
        "import gensim.downloader as api\n",
        "word_vectors = api.load(\"glove-wiki-gigaword-100\")\n",
        "\n",
        "\n",
        "print(word_vectors.similar_by_word(\"cat\", topn = 1))\n",
        "print(word_vectors.doesnt_match([\"breakfast\", \"cereal\", \"dinner\", \"lunch\"]))\n",
        "print(word_vectors.most_similar(positive=['woman', 'king'], negative=['man'], topn = 1))\n",
        "print(word_vectors.most_similar(positive = ['father', 'woman'], negative = ['man'], topn = 1))\n",
        "\n"
      ],
      "metadata": {
        "colab": {
          "base_uri": "https://localhost:8080/"
        },
        "id": "0KgF4V-PxmSw",
        "outputId": "5cbbee32-3c42-4c19-bbb5-45b87e290253"
      },
      "execution_count": null,
      "outputs": [
        {
          "output_type": "stream",
          "name": "stdout",
          "text": [
            "[==================================================] 100.0% 128.1/128.1MB downloaded\n",
            "[('dog', 0.8798074722290039)]\n",
            "cereal\n",
            "[('queen', 0.7698540687561035)]\n",
            "[('mother', 0.9024619460105896)]\n"
          ]
        }
      ]
    },
    {
      "cell_type": "markdown",
      "source": [
        "\n",
        "\n",
        "---\n",
        "\n",
        "\n",
        "\n",
        "\n",
        "\n",
        "It's time to train your very own GPT2!\n",
        "\n",
        "First, you need to clone the repo and set up the environment."
      ],
      "metadata": {
        "id": "5dUH_3BlDj6d"
      }
    },
    {
      "cell_type": "code",
      "source": [
        "!git clone https://github.com/karpathy/minGPT.git\n",
        "!pip install -e 'minGPT/'"
      ],
      "metadata": {
        "colab": {
          "base_uri": "https://localhost:8080/"
        },
        "id": "0kM8qOHntnvo",
        "outputId": "080e4d96-4401-492e-a207-9860abbb6017"
      },
      "execution_count": 1,
      "outputs": [
        {
          "output_type": "stream",
          "name": "stdout",
          "text": [
            "Cloning into 'minGPT'...\n",
            "remote: Enumerating objects: 489, done.\u001b[K\n",
            "remote: Total 489 (delta 0), reused 0 (delta 0), pack-reused 489\u001b[K\n",
            "Receiving objects: 100% (489/489), 1.44 MiB | 17.54 MiB/s, done.\n",
            "Resolving deltas: 100% (261/261), done.\n",
            "Obtaining file:///content/minGPT\n",
            "  Preparing metadata (setup.py) ... \u001b[?25l\u001b[?25hdone\n",
            "Requirement already satisfied: torch in /usr/local/lib/python3.10/dist-packages (from minGPT==0.0.1) (2.1.0+cu121)\n",
            "Requirement already satisfied: filelock in /usr/local/lib/python3.10/dist-packages (from torch->minGPT==0.0.1) (3.13.1)\n",
            "Requirement already satisfied: typing-extensions in /usr/local/lib/python3.10/dist-packages (from torch->minGPT==0.0.1) (4.5.0)\n",
            "Requirement already satisfied: sympy in /usr/local/lib/python3.10/dist-packages (from torch->minGPT==0.0.1) (1.12)\n",
            "Requirement already satisfied: networkx in /usr/local/lib/python3.10/dist-packages (from torch->minGPT==0.0.1) (3.2.1)\n",
            "Requirement already satisfied: jinja2 in /usr/local/lib/python3.10/dist-packages (from torch->minGPT==0.0.1) (3.1.3)\n",
            "Requirement already satisfied: fsspec in /usr/local/lib/python3.10/dist-packages (from torch->minGPT==0.0.1) (2023.6.0)\n",
            "Requirement already satisfied: triton==2.1.0 in /usr/local/lib/python3.10/dist-packages (from torch->minGPT==0.0.1) (2.1.0)\n",
            "Requirement already satisfied: MarkupSafe>=2.0 in /usr/local/lib/python3.10/dist-packages (from jinja2->torch->minGPT==0.0.1) (2.1.3)\n",
            "Requirement already satisfied: mpmath>=0.19 in /usr/local/lib/python3.10/dist-packages (from sympy->torch->minGPT==0.0.1) (1.3.0)\n",
            "Installing collected packages: minGPT\n",
            "  Running setup.py develop for minGPT\n",
            "Successfully installed minGPT-0.0.1\n"
          ]
        }
      ]
    },
    {
      "cell_type": "markdown",
      "source": [
        "After cloning, go to Runtime and \"Restart Session\".\n",
        "Then run the next cell."
      ],
      "metadata": {
        "id": "d3CC-OvAv_jh"
      }
    },
    {
      "cell_type": "code",
      "source": [
        "import sys\n",
        "sys.path.insert(0, './minGPT/')\n",
        "\n",
        "import torch\n",
        "from torch.utils.data import Dataset\n",
        "from torch.nn import functional as F\n",
        "import numpy as np\n",
        "from mingpt.bpe import get_encoder, BPETokenizer"
      ],
      "metadata": {
        "id": "Sp9biSquDzAv"
      },
      "execution_count": 1,
      "outputs": []
    },
    {
      "cell_type": "markdown",
      "source": [
        "Here are some consts you'll need for your training.\n",
        "\n",
        "Feel free to experiment with the different hyper-parameters, but be aware that increasing the BLOCK_SIZE or BATCH_SIZE too much may lead to your colab running out of memory.\n",
        "\n",
        "Don't forget to upload the text file of \"Alice's Adventures in Wonderland\" to colab, and update the ALICE_IN_WONDERLAND_PATH const if necessary."
      ],
      "metadata": {
        "id": "aPkKT-IbD-Bf"
      }
    },
    {
      "cell_type": "code",
      "source": [
        "ALICE_IN_WONDERLAND_PATH = 'alice_in_wonderland.txt'\n",
        "BLOCK_SIZE = 32\n",
        "VOCAB_SIZE = 50257\n",
        "NUM_BLOCKS_IN_GPT = 12\n",
        "MODEL_TYPE = 'gpt2'\n",
        "NUM_TRAIN_ITERATIONS = 2000\n",
        "BATCH_SIZE = 32\n",
        "LEARNING_RATE = 5e-4\n",
        "NUM_ATTN_HEADS = 12"
      ],
      "metadata": {
        "id": "ZVmLfpN5EX_a"
      },
      "execution_count": 2,
      "outputs": []
    },
    {
      "cell_type": "markdown",
      "source": [
        "Now it's time to create a training dataset out of the raw text of \"Alice's Adventures in Wonderland\".\n",
        "\n",
        "FIrst, read the text from the file into a string.\n",
        "Then encode the string using the supplied Byte Pair Encoder.\n",
        "\n",
        "In the file [bpe.py](https://github.com/karpathy/minGPT/blob/master/mingpt/bpe.py), you can find an example for how to use the encoder.\n",
        "\n",
        "Instead of encoder.encode_and_show_work() use encoder.encode().\n",
        "This function will return a list of token indexes corresponding to the text.\n"
      ],
      "metadata": {
        "id": "nnVHeszinD-v"
      }
    },
    {
      "cell_type": "code",
      "source": [
        "with open(ALICE_IN_WONDERLAND_PATH, 'r') as f:\n",
        "    AIW_text = f.read()\n",
        "\n",
        "encoder = get_encoder()\n",
        "bpe_idx = encoder.encode(AIW_text)"
      ],
      "metadata": {
        "id": "F0p4f6odnPZM"
      },
      "execution_count": null,
      "outputs": []
    },
    {
      "cell_type": "markdown",
      "source": [
        "Next, you should write a custom dataset class that gets the token indexes from the encoder as input, inherets from [Dataset](https://pytorch.org/tutorials/beginner/basics/data_tutorial.html#creating-a-custom-dataset-for-your-files), and  implements three functions: \\_\\_init__, \\_\\_len__, and \\_\\_getitem__.\n",
        "\n",
        "The \\_\\_init__ function just needs to save the token indexes.\n",
        "\n",
        "The \\_\\_len__ function returns the number of samples in our dataset (the largest i for which __getitem__ returns a valid sample).\n",
        "\n",
        "The \\_\\_getitem__ function loads and returns a sample (input, label) from the dataset at the given index i.\n",
        "\\_getitem_ should return  2 objects of type torch.tensor with dtype=torch.long"
      ],
      "metadata": {
        "id": "4KX8P2RQm7lz"
      }
    },
    {
      "cell_type": "markdown",
      "source": [
        "Remember that GPT2 is an Auto-Regressive text model so we train the model to predict the next token based on the given prefix.\n",
        "Meaning that the i-th **input** will be the next block_size tokens up to i, tokens[i : i + block_size] and the **label** will be\n",
        "tokens[i + 1 : i + block_size + 1]."
      ],
      "metadata": {
        "id": "zm1LlXb7E7x4"
      }
    },
    {
      "cell_type": "code",
      "source": [
        "class AIWDataset(Dataset):\n",
        "    def __init__(self, bpe_idx):\n",
        "        self.bpe_idx = bpe_idx\n",
        "\n",
        "    def __len__(self):\n",
        "        return len(self.bpe_idx) - BLOCK_SIZE - 1\n",
        "\n",
        "    def __getitem__(self, i):\n",
        "        x = torch.tensor(self.bpe_idx[i:i + BLOCK_SIZE], dtype=torch.long)\n",
        "        y = torch.tensor(self.bpe_idx[i + 1:i + BLOCK_SIZE + 1], dtype=torch.long)\n",
        "        return x, y\n",
        "\n",
        "\n",
        "dataset = AIWDataset(bpe_idx)"
      ],
      "metadata": {
        "id": "jRghJXviFrq3"
      },
      "execution_count": 3,
      "outputs": []
    },
    {
      "cell_type": "markdown",
      "source": [
        "Now all that's left is to load and train you model.\n",
        "Check out the README of the minGPT repo for [instructions](https://github.com/karpathy/minGPT/blob/master/README.md).\n",
        "\n",
        "Use the constants provided above to set the values in model_config (model_type, block_size, vocab_size).\n",
        "\n",
        "You can add a callback function to your trainer to see how the loss changes during training.\n",
        "Use the constants provided above to set the values in trainer_config (learning_rate, max_iters, batch_size).\n",
        "\n",
        "If you haven't changed the hyper-parmeters, training on T4 machine should take ~10m.\n",
        "\n",
        "If you get out of memory error, try using a smaller version of the model for example 'gpt-mini'"
      ],
      "metadata": {
        "id": "ELJOPYyuGDK7"
      }
    },
    {
      "cell_type": "code",
      "execution_count": 4,
      "metadata": {
        "colab": {
          "base_uri": "https://localhost:8080/"
        },
        "id": "dEwj_7K9iGoI",
        "outputId": "c6149432-6aa9-4647-e7d1-9b5c24f21b0a"
      },
      "outputs": [
        {
          "output_type": "stream",
          "name": "stdout",
          "text": [
            "number of parameters: 123.68M\n",
            "running on device cuda\n",
            "iter 0: train loss 10.925\n",
            "iter 100: train loss 5.858\n",
            "iter 200: train loss 4.537\n",
            "iter 300: train loss 3.857\n",
            "iter 400: train loss 3.603\n",
            "iter 500: train loss 3.628\n",
            "iter 600: train loss 3.403\n",
            "iter 700: train loss 2.975\n",
            "iter 800: train loss 3.141\n",
            "iter 900: train loss 2.869\n",
            "iter 1000: train loss 2.696\n",
            "iter 1100: train loss 2.303\n",
            "iter 1200: train loss 1.921\n",
            "iter 1300: train loss 1.989\n",
            "iter 1400: train loss 1.578\n",
            "iter 1500: train loss 1.472\n",
            "iter 1600: train loss 1.248\n",
            "iter 1700: train loss 1.088\n",
            "iter 1800: train loss 1.021\n",
            "iter 1900: train loss 0.945\n"
          ]
        }
      ],
      "source": [
        "from mingpt.model import GPT\n",
        "from mingpt.trainer import Trainer\n",
        "\n",
        "\n",
        "def load_model():\n",
        "    model_config = GPT.get_default_config()\n",
        "    model_config.model_type = MODEL_TYPE\n",
        "    model_config.block_size = BLOCK_SIZE\n",
        "    model_config.vocab_size = VOCAB_SIZE\n",
        "    return GPT(model_config)\n",
        "\n",
        "\n",
        "def batch_end_callback(trainer):\n",
        "    if trainer.iter_num % 100 == 0:\n",
        "        print(f\"iter {trainer.iter_num}: train loss {round(trainer.loss.item(), 3)}\")\n",
        "\n",
        "\n",
        "def train_model(model, train_dataset):\n",
        "    train_config = Trainer.get_default_config()\n",
        "    train_config.learning_rate = LEARNING_RATE\n",
        "    train_config.max_iters = NUM_TRAIN_ITERATIONS\n",
        "    train_config.batch_size = BATCH_SIZE\n",
        "    trainer = Trainer(train_config, model, train_dataset)\n",
        "    trainer.set_callback('on_batch_end', batch_end_callback)\n",
        "    trainer.init_time = None\n",
        "    trainer.train_loss_vals = []\n",
        "    trainer.train_loss_times = []\n",
        "    trainer.run()\n",
        "    model.eval()\n",
        "    return trainer.device\n",
        "\n",
        "\n",
        "model = load_model()\n",
        "device = train_model(model, dataset)\n"
      ]
    },
    {
      "cell_type": "markdown",
      "source": [
        "You now have a trained LM - congratulations! 🎉🎉🎉\n",
        "\n",
        "\n",
        "It's time to put it to the test and generate some text (don't expect any miracles here, all it knows is \"Alice's Adventures in Wonderland\", so cut it some slack).\n",
        "\n",
        "You can experiment with different prompts, number of generated tokens, etc.\n"
      ],
      "metadata": {
        "id": "7t6ouJHeIgwR"
      }
    },
    {
      "cell_type": "markdown",
      "source": [
        "To do so you will need to use the in-built in function 'generate' of the model (model.generate()), which receives as input:\n",
        "\n",
        "1. A torch.tensor of dtype=torch.long with the indexes of the tokens in the prompt - just like in training, start with a string prompt of your choosing, encode it using the encoder and convert the result to torch.tensor after wrapping it in list using torch.tensor([encoder_output], dtype=torch.long)\n",
        "\n",
        "**Note**: very technical but to avoid device error, convert the resulting tensor (t) to the device of the trainer using t.to(device = trainer.device)\n",
        "\n",
        "2. The number of words to generate - you can choose whatever positive number you like.\n",
        "\n",
        "\n",
        "The function returns token indexes, which you can covert to tokens/words using `encoder.decode(token_indexes.squeeze().tolist())`"
      ],
      "metadata": {
        "id": "hIUZmwQqmSET"
      }
    },
    {
      "cell_type": "code",
      "source": [
        "def generate_sentence(model, prompt, length, device, encoder):\n",
        "    init_idx = torch.tensor([encoder.encode(prompt)], dtype=torch.long).to(device=device)\n",
        "    idx = model.generate(init_idx, max_new_tokens=length - init_idx.shape[1], do_sample=False, top_k=40)\n",
        "    return encoder.decode(idx.squeeze().tolist())\n",
        "\n",
        "\n",
        "generate_sentence(model, 'Alice was walking', 20, device, encoder)"
      ],
      "metadata": {
        "colab": {
          "base_uri": "https://localhost:8080/",
          "height": 35
        },
        "id": "RsmNyRR0IGrF",
        "outputId": "aa57885b-5ad8-4709-e887-d6f4332649fa"
      },
      "execution_count": 5,
      "outputs": [
        {
          "output_type": "execute_result",
          "data": {
            "text/plain": [
              "\"Alice was walking in with passion.  `I've seen\\nhatters before,' she said to\""
            ],
            "application/vnd.google.colaboratory.intrinsic+json": {
              "type": "string"
            }
          },
          "metadata": {},
          "execution_count": 5
        }
      ]
    },
    {
      "cell_type": "markdown",
      "source": [
        "To understand the contextual embedding your model uses to generate text, we will take a closer look at the self-attention output.\n",
        "\n",
        "Generate a sentence with at least 10 tokens.\n",
        "In the last word prediction extract the attention scores\n",
        "from the **first** and **last** transformer blocks.\n",
        "Average the scores over the different attention heads.\n",
        "\n",
        "Using the provided \"paint_tokens_by_attention\" function, paind the tokens by their attention weight.\n",
        "\n",
        "\n",
        "\n"
      ],
      "metadata": {
        "id": "9C7XMoMuJ3sO"
      }
    },
    {
      "cell_type": "markdown",
      "source": [
        "To extract the (averaged) attention scores you will need to modify your local **model.py** file at the following points in the code:\n",
        "1. Return the average attention scores in the *forward* function of the **CausalSelfAttention** class (apply the mean after the softmax before the dropout) as an additional output.\n",
        "2. Handle this additional output in the *forward* function of the **Block** class, and return it as well.\n",
        "3. In the *forward* function of the **GPT** class, make sure to save the attention scores from the relevant blocks and return them as a list along side the existing outputs.\n",
        "\n",
        "\n",
        "You can take the modified file from moodle to run the next section of code.\n",
        "\n",
        "IMPORTANT NOTE:\n",
        "After modifying the model.py file you will need to restart your runtime and re-train your model.\n",
        "\n",
        "To do so change line 93 in **trainer.py** to be:\n",
        "\n",
        "```\n",
        "logits, self.loss, _ = model(x, y)\n",
        "\n",
        "```\n",
        "\n"
      ],
      "metadata": {
        "id": "eb7d5y_5PERv"
      }
    },
    {
      "cell_type": "markdown",
      "source": [
        "With the modified model.py you can generate tokens using the in-build model.forward() function.\n",
        "Make sure to call `with torch.no_grad():` before the forward function.\n",
        "\n",
        "This function expects two inputs: torch.tensor of tokens indexes (like before), and attn_block_nums which is a list of blocks from which you would like to extract the attention."
      ],
      "metadata": {
        "id": "SK61TmqcmCTC"
      }
    },
    {
      "cell_type": "code",
      "source": [
        "ATTENTION_PROMPT = \"The King and Queen of Hearts were seated on their\"\n",
        "\n",
        "prompt_token_idxs = encoder.encode(ATTENTION_PROMPT)\n",
        "prompt_token_idxs_tensor = torch.tensor([prompt_token_idxs], dtype=torch.long).to(device=device)\n",
        "\n",
        "with torch.no_grad():\n",
        "      logits, _, attn_scores = model(prompt_token_idxs_tensor, attn_block_nums=[0, NUM_BLOCKS_IN_GPT - 1])"
      ],
      "metadata": {
        "id": "ObayhTiKTDXO"
      },
      "execution_count": 40,
      "outputs": []
    },
    {
      "cell_type": "markdown",
      "source": [
        "The function returns three values: logits, loss, attns.\n",
        "\n",
        "You can ignore the loss, and using the function `logits_to_next_token_idx` get the token index of the word predicted/generated by the model.\n",
        "\n",
        "Then you can decode this token index using encoder.decode() to get the actual token and print it out.\n",
        ""
      ],
      "metadata": {
        "id": "OtjG04Ehl-n3"
      }
    },
    {
      "cell_type": "code",
      "source": [
        "def logits_to_token_idx(logits):\n",
        "    next_token_logits = logits[:, -1, :]\n",
        "    probs = F.softmax(next_token_logits, dim=-1)\n",
        "    idx = torch.topk(probs, k=1)[1]\n",
        "    return idx.cpu().tolist()[0]"
      ],
      "metadata": {
        "id": "slYd8o0kTVvV"
      },
      "execution_count": 41,
      "outputs": []
    },
    {
      "cell_type": "code",
      "source": [
        "next_token_index = logits_to_token_idx(logits)\n",
        "netx_token = encoder.decode(next_token_index)\n",
        "\n",
        "print(f\"Sentence sampled for attention: \\n\" + ATTENTION_PROMPT + netx_token)"
      ],
      "metadata": {
        "colab": {
          "base_uri": "https://localhost:8080/"
        },
        "id": "j6lAfsudT426",
        "outputId": "7b126380-a94a-4309-ff8a-b8091e73378c"
      },
      "execution_count": 42,
      "outputs": [
        {
          "output_type": "stream",
          "name": "stdout",
          "text": [
            "Sentence sampled for attention: \n",
            "The King and Queen of Hearts were seated on their throne\n"
          ]
        }
      ]
    },
    {
      "cell_type": "markdown",
      "source": [
        "attns as returned by the forward function is a tuple of (first_block_att_scores, last_block_att_scores).\n",
        "\n",
        "This is the attention score for all tokens predicted by the model, so you will need to use `first_block_att_scores.squeeze()[-1]` (and the same for last_block_att_scores) to get the attention for the last predicted token.\n",
        "\n",
        "So you need to split it, and then pass each of those to the function \"paint_tokens_by_attention\" function, to paint the tokens by their attention weight.\n",
        "\n",
        "Remember to pass tokens not the original prompt to this painting function.\n",
        "\n",
        "To get them you can encode the prompt with the encoder, and then decode each item in the list separately wrapped in a list (the decode() function accepts only lists)."
      ],
      "metadata": {
        "id": "8uU-wmCdl2ss"
      }
    },
    {
      "cell_type": "code",
      "source": [
        "import matplotlib.pyplot as plt\n",
        "import matplotlib.cm as cm\n",
        "\n",
        "def paint_tokens_by_attention(tokens, attention_scores):\n",
        "    plt.cla()\n",
        "    attn = [attention_scores.cpu().numpy().round(3)]\n",
        "    plt.table(cellText=attn,\n",
        "              colLabels=tokens,\n",
        "              loc='center',\n",
        "              cellColours=cm.Oranges(attn))\n",
        "    plt.axis('off')\n",
        "    plt.rcParams['figure.dpi'] = 300\n",
        "    plt.rcParams['savefig.dpi'] = 300\n",
        "    plt.show()"
      ],
      "metadata": {
        "id": "0qMc29gMl6Fb"
      },
      "execution_count": null,
      "outputs": []
    },
    {
      "cell_type": "code",
      "source": [
        "first_block_att_scores, last_block_att_scores = attn_scores\n",
        "first_block_att_scores = first_block_att_scores.squeeze()[-1]\n",
        "last_block_att_scores = last_block_att_scores.squeeze()[-1]\n",
        "\n",
        "prompt_tokens = [encoder.decode([token_idx]) for token_idx in prompt_token_idxs]\n",
        "\n",
        "paint_tokens_by_attention(prompt_tokens, first_block_att_scores)\n",
        "paint_tokens_by_attention(prompt_tokens, last_block_att_scores)"
      ],
      "metadata": {
        "colab": {
          "base_uri": "https://localhost:8080/",
          "height": 730
        },
        "id": "SIhwJpCldLUP",
        "outputId": "d1a6344f-5b19-40fc-9a03-940a837e08af"
      },
      "execution_count": 43,
      "outputs": [
        {
          "output_type": "display_data",
          "data": {
            "text/plain": [
              "<Figure size 1920x1440 with 1 Axes>"
            ],
            "image/png": "[encoded data removed]"
          },
          "metadata": {}
        }
      ]
    },
    {
      "cell_type": "markdown",
      "source": [
        "Pay attention to the following:\n",
        "1. What is the sum of all attention scores?\n",
        "2. What is the difference in attention between the blocks?\n",
        "3. Based on this analysis why do you think the model \"chose\" the last word/token?"
      ],
      "metadata": {
        "id": "bTBUWKDcO9J8"
      }
    }
  ]
}